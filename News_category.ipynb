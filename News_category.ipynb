{
 "cells": [
  {
   "cell_type": "code",
   "execution_count": 1,
   "id": "04ac4a60",
   "metadata": {
    "_cell_guid": "b1076dfc-b9ad-4769-8c92-a6c4dae69d19",
    "_uuid": "8f2839f25d086af736a60e9eeb907d3b93b6e0e5",
    "execution": {
     "iopub.execute_input": "2024-04-06T23:43:29.332045Z",
     "iopub.status.busy": "2024-04-06T23:43:29.331382Z",
     "iopub.status.idle": "2024-04-06T23:43:30.119079Z",
     "shell.execute_reply": "2024-04-06T23:43:30.117845Z"
    },
    "papermill": {
     "duration": 0.797362,
     "end_time": "2024-04-06T23:43:30.122499",
     "exception": false,
     "start_time": "2024-04-06T23:43:29.325137",
     "status": "completed"
    },
    "tags": []
   },
   "outputs": [
    {
     "name": "stdout",
     "output_type": "stream",
     "text": [
      "/kaggle/input/news-category-dataset/News_Category_Dataset_v3.json\n"
     ]
    }
   ],
   "source": [
    "# This Python 3 environment comes with many helpful analytics libraries installed\n",
    "# It is defined by the kaggle/python Docker image: https://github.com/kaggle/docker-python\n",
    "# For example, here's several helpful packages to load\n",
    "\n",
    "import numpy as np # linear algebra\n",
    "import pandas as pd # data processing, CSV file I/O (e.g. pd.read_csv)\n",
    "\n",
    "# Input data files are available in the read-only \"../input/\" directory\n",
    "# For example, running this (by clicking run or pressing Shift+Enter) will list all files under the input directory\n",
    "\n",
    "import os\n",
    "for dirname, _, filenames in os.walk('/kaggle/input'):\n",
    "    for filename in filenames:\n",
    "        print(os.path.join(dirname, filename))\n",
    "\n",
    "# You can write up to 20GB to the current directory (/kaggle/working/) that gets preserved as output when you create a version using \"Save & Run All\" \n",
    "# You can also write temporary files to /kaggle/temp/, but they won't be saved outside of the current session"
   ]
  },
  {
   "cell_type": "code",
   "execution_count": 2,
   "id": "4a215833",
   "metadata": {
    "execution": {
     "iopub.execute_input": "2024-04-06T23:43:30.131213Z",
     "iopub.status.busy": "2024-04-06T23:43:30.130756Z",
     "iopub.status.idle": "2024-04-06T23:43:31.919239Z",
     "shell.execute_reply": "2024-04-06T23:43:31.918164Z"
    },
    "papermill": {
     "duration": 1.795685,
     "end_time": "2024-04-06T23:43:31.922019",
     "exception": false,
     "start_time": "2024-04-06T23:43:30.126334",
     "status": "completed"
    },
    "tags": []
   },
   "outputs": [],
   "source": [
    "import json\n",
    "with open(\"/kaggle/input/news-category-dataset/News_Category_Dataset_v3.json\", \"r\") as file:\n",
    "    # Read each line and append it to a list\n",
    "    data = [json.loads(line) for line in file]"
   ]
  },
  {
   "cell_type": "code",
   "execution_count": 3,
   "id": "8992e965",
   "metadata": {
    "execution": {
     "iopub.execute_input": "2024-04-06T23:43:31.931143Z",
     "iopub.status.busy": "2024-04-06T23:43:31.930257Z",
     "iopub.status.idle": "2024-04-06T23:43:32.237510Z",
     "shell.execute_reply": "2024-04-06T23:43:32.236459Z"
    },
    "papermill": {
     "duration": 0.314275,
     "end_time": "2024-04-06T23:43:32.240004",
     "exception": false,
     "start_time": "2024-04-06T23:43:31.925729",
     "status": "completed"
    },
    "tags": []
   },
   "outputs": [
    {
     "data": {
      "text/html": [
       "<div>\n",
       "<style scoped>\n",
       "    .dataframe tbody tr th:only-of-type {\n",
       "        vertical-align: middle;\n",
       "    }\n",
       "\n",
       "    .dataframe tbody tr th {\n",
       "        vertical-align: top;\n",
       "    }\n",
       "\n",
       "    .dataframe thead th {\n",
       "        text-align: right;\n",
       "    }\n",
       "</style>\n",
       "<table border=\"1\" class=\"dataframe\">\n",
       "  <thead>\n",
       "    <tr style=\"text-align: right;\">\n",
       "      <th></th>\n",
       "      <th>link</th>\n",
       "      <th>headline</th>\n",
       "      <th>category</th>\n",
       "      <th>short_description</th>\n",
       "      <th>authors</th>\n",
       "      <th>date</th>\n",
       "    </tr>\n",
       "  </thead>\n",
       "  <tbody>\n",
       "    <tr>\n",
       "      <th>0</th>\n",
       "      <td>https://www.huffpost.com/entry/covid-boosters-...</td>\n",
       "      <td>Over 4 Million Americans Roll Up Sleeves For O...</td>\n",
       "      <td>U.S. NEWS</td>\n",
       "      <td>Health experts said it is too early to predict...</td>\n",
       "      <td>Carla K. Johnson, AP</td>\n",
       "      <td>2022-09-23</td>\n",
       "    </tr>\n",
       "    <tr>\n",
       "      <th>1</th>\n",
       "      <td>https://www.huffpost.com/entry/american-airlin...</td>\n",
       "      <td>American Airlines Flyer Charged, Banned For Li...</td>\n",
       "      <td>U.S. NEWS</td>\n",
       "      <td>He was subdued by passengers and crew when he ...</td>\n",
       "      <td>Mary Papenfuss</td>\n",
       "      <td>2022-09-23</td>\n",
       "    </tr>\n",
       "    <tr>\n",
       "      <th>2</th>\n",
       "      <td>https://www.huffpost.com/entry/funniest-tweets...</td>\n",
       "      <td>23 Of The Funniest Tweets About Cats And Dogs ...</td>\n",
       "      <td>COMEDY</td>\n",
       "      <td>\"Until you have a dog you don't understand wha...</td>\n",
       "      <td>Elyse Wanshel</td>\n",
       "      <td>2022-09-23</td>\n",
       "    </tr>\n",
       "    <tr>\n",
       "      <th>3</th>\n",
       "      <td>https://www.huffpost.com/entry/funniest-parent...</td>\n",
       "      <td>The Funniest Tweets From Parents This Week (Se...</td>\n",
       "      <td>PARENTING</td>\n",
       "      <td>\"Accidentally put grown-up toothpaste on my to...</td>\n",
       "      <td>Caroline Bologna</td>\n",
       "      <td>2022-09-23</td>\n",
       "    </tr>\n",
       "    <tr>\n",
       "      <th>4</th>\n",
       "      <td>https://www.huffpost.com/entry/amy-cooper-lose...</td>\n",
       "      <td>Woman Who Called Cops On Black Bird-Watcher Lo...</td>\n",
       "      <td>U.S. NEWS</td>\n",
       "      <td>Amy Cooper accused investment firm Franklin Te...</td>\n",
       "      <td>Nina Golgowski</td>\n",
       "      <td>2022-09-22</td>\n",
       "    </tr>\n",
       "  </tbody>\n",
       "</table>\n",
       "</div>"
      ],
      "text/plain": [
       "                                                link  \\\n",
       "0  https://www.huffpost.com/entry/covid-boosters-...   \n",
       "1  https://www.huffpost.com/entry/american-airlin...   \n",
       "2  https://www.huffpost.com/entry/funniest-tweets...   \n",
       "3  https://www.huffpost.com/entry/funniest-parent...   \n",
       "4  https://www.huffpost.com/entry/amy-cooper-lose...   \n",
       "\n",
       "                                            headline   category  \\\n",
       "0  Over 4 Million Americans Roll Up Sleeves For O...  U.S. NEWS   \n",
       "1  American Airlines Flyer Charged, Banned For Li...  U.S. NEWS   \n",
       "2  23 Of The Funniest Tweets About Cats And Dogs ...     COMEDY   \n",
       "3  The Funniest Tweets From Parents This Week (Se...  PARENTING   \n",
       "4  Woman Who Called Cops On Black Bird-Watcher Lo...  U.S. NEWS   \n",
       "\n",
       "                                   short_description               authors  \\\n",
       "0  Health experts said it is too early to predict...  Carla K. Johnson, AP   \n",
       "1  He was subdued by passengers and crew when he ...        Mary Papenfuss   \n",
       "2  \"Until you have a dog you don't understand wha...         Elyse Wanshel   \n",
       "3  \"Accidentally put grown-up toothpaste on my to...      Caroline Bologna   \n",
       "4  Amy Cooper accused investment firm Franklin Te...        Nina Golgowski   \n",
       "\n",
       "         date  \n",
       "0  2022-09-23  \n",
       "1  2022-09-23  \n",
       "2  2022-09-23  \n",
       "3  2022-09-23  \n",
       "4  2022-09-22  "
      ]
     },
     "execution_count": 3,
     "metadata": {},
     "output_type": "execute_result"
    }
   ],
   "source": [
    "df = pd.DataFrame(data)\n",
    "df.head()"
   ]
  },
  {
   "cell_type": "markdown",
   "id": "9cd1491d",
   "metadata": {
    "papermill": {
     "duration": 0.003738,
     "end_time": "2024-04-06T23:43:32.247649",
     "exception": false,
     "start_time": "2024-04-06T23:43:32.243911",
     "status": "completed"
    },
    "tags": []
   },
   "source": [
    "# Downsampling data"
   ]
  },
  {
   "cell_type": "code",
   "execution_count": 4,
   "id": "0ddd1181",
   "metadata": {
    "execution": {
     "iopub.execute_input": "2024-04-06T23:43:32.257064Z",
     "iopub.status.busy": "2024-04-06T23:43:32.256556Z",
     "iopub.status.idle": "2024-04-06T23:43:33.739852Z",
     "shell.execute_reply": "2024-04-06T23:43:33.738849Z"
    },
    "papermill": {
     "duration": 1.490252,
     "end_time": "2024-04-06T23:43:33.741814",
     "exception": false,
     "start_time": "2024-04-06T23:43:32.251562",
     "status": "completed"
    },
    "tags": []
   },
   "outputs": [
    {
     "data": {
      "text/html": [
       "<div>\n",
       "<style scoped>\n",
       "    .dataframe tbody tr th:only-of-type {\n",
       "        vertical-align: middle;\n",
       "    }\n",
       "\n",
       "    .dataframe tbody tr th {\n",
       "        vertical-align: top;\n",
       "    }\n",
       "\n",
       "    .dataframe thead th {\n",
       "        text-align: right;\n",
       "    }\n",
       "</style>\n",
       "<table border=\"1\" class=\"dataframe\">\n",
       "  <thead>\n",
       "    <tr style=\"text-align: right;\">\n",
       "      <th></th>\n",
       "      <th>link</th>\n",
       "      <th>headline</th>\n",
       "      <th>category</th>\n",
       "      <th>short_description</th>\n",
       "      <th>authors</th>\n",
       "      <th>date</th>\n",
       "    </tr>\n",
       "  </thead>\n",
       "  <tbody>\n",
       "    <tr>\n",
       "      <th>6895</th>\n",
       "      <td>https://www.huffpost.com/entry/topeka-zoo-tige...</td>\n",
       "      <td>Zookeeper Mauled By Topeka Zoo Tiger, Rushed T...</td>\n",
       "      <td>U.S. NEWS</td>\n",
       "      <td>The incident occurred just after the zoo opene...</td>\n",
       "      <td></td>\n",
       "      <td>2019-04-20</td>\n",
       "    </tr>\n",
       "    <tr>\n",
       "      <th>1016</th>\n",
       "      <td>https://www.huffpost.com/entry/wall-street-sto...</td>\n",
       "      <td>Stocks Sway On Wall Street As Oil Slides To $1...</td>\n",
       "      <td>U.S. NEWS</td>\n",
       "      <td>Markets have careened in recent weeks amid unc...</td>\n",
       "      <td>STAN CHOE and DAMIAN J. TROISE, AP</td>\n",
       "      <td>2022-03-14</td>\n",
       "    </tr>\n",
       "    <tr>\n",
       "      <th>629</th>\n",
       "      <td>https://www.huffpost.com/entry/toddler-cheeseb...</td>\n",
       "      <td>Toddler Who Pulled Off Cheeseburger 'Heist' Ge...</td>\n",
       "      <td>U.S. NEWS</td>\n",
       "      <td>\"It hurts to see other people living your drea...</td>\n",
       "      <td>Josephine Harvey</td>\n",
       "      <td>2022-05-24</td>\n",
       "    </tr>\n",
       "    <tr>\n",
       "      <th>8670</th>\n",
       "      <td>https://www.huffpost.com/entry/subtropical-sto...</td>\n",
       "      <td>Subtropical Storm Alberto Barrels Up Gulf Coas...</td>\n",
       "      <td>U.S. NEWS</td>\n",
       "      <td>Florida, Alabama and Mississippi declared stat...</td>\n",
       "      <td></td>\n",
       "      <td>2018-05-27</td>\n",
       "    </tr>\n",
       "    <tr>\n",
       "      <th>6573</th>\n",
       "      <td>https://www.huffpost.com/entry/bodies-found-ri...</td>\n",
       "      <td>Woman, 3 Children Died Of Heat Exposure After ...</td>\n",
       "      <td>U.S. NEWS</td>\n",
       "      <td>Their bodies were reportedly found in or near ...</td>\n",
       "      <td></td>\n",
       "      <td>2019-06-24</td>\n",
       "    </tr>\n",
       "  </tbody>\n",
       "</table>\n",
       "</div>"
      ],
      "text/plain": [
       "                                                   link  \\\n",
       "6895  https://www.huffpost.com/entry/topeka-zoo-tige...   \n",
       "1016  https://www.huffpost.com/entry/wall-street-sto...   \n",
       "629   https://www.huffpost.com/entry/toddler-cheeseb...   \n",
       "8670  https://www.huffpost.com/entry/subtropical-sto...   \n",
       "6573  https://www.huffpost.com/entry/bodies-found-ri...   \n",
       "\n",
       "                                               headline   category  \\\n",
       "6895  Zookeeper Mauled By Topeka Zoo Tiger, Rushed T...  U.S. NEWS   \n",
       "1016  Stocks Sway On Wall Street As Oil Slides To $1...  U.S. NEWS   \n",
       "629   Toddler Who Pulled Off Cheeseburger 'Heist' Ge...  U.S. NEWS   \n",
       "8670  Subtropical Storm Alberto Barrels Up Gulf Coas...  U.S. NEWS   \n",
       "6573  Woman, 3 Children Died Of Heat Exposure After ...  U.S. NEWS   \n",
       "\n",
       "                                      short_description  \\\n",
       "6895  The incident occurred just after the zoo opene...   \n",
       "1016  Markets have careened in recent weeks amid unc...   \n",
       "629   \"It hurts to see other people living your drea...   \n",
       "8670  Florida, Alabama and Mississippi declared stat...   \n",
       "6573  Their bodies were reportedly found in or near ...   \n",
       "\n",
       "                                 authors        date  \n",
       "6895                                      2019-04-20  \n",
       "1016  STAN CHOE and DAMIAN J. TROISE, AP  2022-03-14  \n",
       "629                     Josephine Harvey  2022-05-24  \n",
       "8670                                      2018-05-27  \n",
       "6573                                      2019-06-24  "
      ]
     },
     "execution_count": 4,
     "metadata": {},
     "output_type": "execute_result"
    }
   ],
   "source": [
    "min_sample= df.category.value_counts().min()\n",
    "balanced_df = pd.DataFrame(columns=df.columns)\n",
    "for cat in df.category.unique():\n",
    "    category_data = df[df.category==cat].sample(min_sample, random_state=2022)\n",
    "    balanced_df = pd.concat([balanced_df, category_data])\n",
    "    \n",
    "balanced_df.head()\n"
   ]
  },
  {
   "cell_type": "code",
   "execution_count": null,
   "id": "0c812d8b",
   "metadata": {
    "papermill": {
     "duration": 0.003681,
     "end_time": "2024-04-06T23:43:33.749562",
     "exception": false,
     "start_time": "2024-04-06T23:43:33.745881",
     "status": "completed"
    },
    "tags": []
   },
   "outputs": [],
   "source": []
  },
  {
   "cell_type": "code",
   "execution_count": 5,
   "id": "70c1e530",
   "metadata": {
    "execution": {
     "iopub.execute_input": "2024-04-06T23:43:33.759001Z",
     "iopub.status.busy": "2024-04-06T23:43:33.758314Z",
     "iopub.status.idle": "2024-04-06T23:43:33.788538Z",
     "shell.execute_reply": "2024-04-06T23:43:33.787525Z"
    },
    "papermill": {
     "duration": 0.037567,
     "end_time": "2024-04-06T23:43:33.791041",
     "exception": false,
     "start_time": "2024-04-06T23:43:33.753474",
     "status": "completed"
    },
    "tags": []
   },
   "outputs": [
    {
     "data": {
      "text/plain": [
       "6895       0\n",
       "1016       0\n",
       "629        0\n",
       "8670       0\n",
       "6573       0\n",
       "          ..\n",
       "209355    41\n",
       "160235    41\n",
       "185978    41\n",
       "160171    41\n",
       "165852    41\n",
       "Name: category_num, Length: 42588, dtype: int64"
      ]
     },
     "execution_count": 5,
     "metadata": {},
     "output_type": "execute_result"
    }
   ],
   "source": [
    "category_map = {category:index for index, category in enumerate(balanced_df.category.unique())}\n",
    "balanced_df['category_num'] = balanced_df.category.map(category_map)\n",
    "balanced_df.category_num"
   ]
  },
  {
   "cell_type": "code",
   "execution_count": 6,
   "id": "f68671d9",
   "metadata": {
    "execution": {
     "iopub.execute_input": "2024-04-06T23:43:33.800642Z",
     "iopub.status.busy": "2024-04-06T23:43:33.800287Z",
     "iopub.status.idle": "2024-04-06T23:43:35.003643Z",
     "shell.execute_reply": "2024-04-06T23:43:35.002548Z"
    },
    "papermill": {
     "duration": 1.210909,
     "end_time": "2024-04-06T23:43:35.006098",
     "exception": false,
     "start_time": "2024-04-06T23:43:33.795189",
     "status": "completed"
    },
    "tags": []
   },
   "outputs": [
    {
     "data": {
      "text/plain": [
       "((34070,), (8518,))"
      ]
     },
     "execution_count": 6,
     "metadata": {},
     "output_type": "execute_result"
    }
   ],
   "source": [
    "from sklearn.model_selection import train_test_split\n",
    "\n",
    "X_train, X_test, y_train, y_test = train_test_split(balanced_df.short_description, balanced_df.category_num, test_size=0.2, random_state=42, stratify = balanced_df.category_num, shuffle=True)\n",
    "X_train.shape, X_test.shape"
   ]
  },
  {
   "cell_type": "code",
   "execution_count": 7,
   "id": "e3d9c20b",
   "metadata": {
    "execution": {
     "iopub.execute_input": "2024-04-06T23:43:35.016740Z",
     "iopub.status.busy": "2024-04-06T23:43:35.015985Z",
     "iopub.status.idle": "2024-04-06T23:43:36.218341Z",
     "shell.execute_reply": "2024-04-06T23:43:36.217287Z"
    },
    "papermill": {
     "duration": 1.210231,
     "end_time": "2024-04-06T23:43:36.220710",
     "exception": false,
     "start_time": "2024-04-06T23:43:35.010479",
     "status": "completed"
    },
    "tags": []
   },
   "outputs": [
    {
     "name": "stdout",
     "output_type": "stream",
     "text": [
      "              precision    recall  f1-score   support\n",
      "\n",
      "           0       0.20      0.33      0.25       203\n",
      "           1       0.31      0.06      0.11       203\n",
      "           2       0.13      0.38      0.19       203\n",
      "           3       0.51      0.25      0.33       203\n",
      "           4       0.07      0.43      0.12       202\n",
      "           5       0.65      0.17      0.27       203\n",
      "           6       0.57      0.18      0.27       203\n",
      "           7       0.18      0.03      0.05       203\n",
      "           8       0.24      0.16      0.19       202\n",
      "           9       0.70      0.03      0.07       203\n",
      "          10       0.29      0.38      0.33       203\n",
      "          11       0.22      0.46      0.30       203\n",
      "          12       0.46      0.20      0.28       203\n",
      "          13       0.72      0.20      0.32       202\n",
      "          14       0.15      0.52      0.23       203\n",
      "          15       0.28      0.13      0.18       203\n",
      "          16       0.42      0.36      0.39       203\n",
      "          17       0.43      0.26      0.32       203\n",
      "          18       0.57      0.19      0.29       203\n",
      "          19       0.46      0.14      0.21       202\n",
      "          20       0.56      0.25      0.34       203\n",
      "          21       0.35      0.07      0.12       203\n",
      "          22       0.27      0.08      0.13       203\n",
      "          23       0.34      0.45      0.39       203\n",
      "          24       0.30      0.57      0.39       203\n",
      "          25       0.52      0.15      0.24       202\n",
      "          26       0.69      0.11      0.19       202\n",
      "          27       0.16      0.21      0.18       203\n",
      "          28       0.40      0.57      0.47       203\n",
      "          29       0.34      0.13      0.19       202\n",
      "          30       0.03      0.00      0.01       203\n",
      "          31       0.20      0.01      0.03       203\n",
      "          32       0.17      0.00      0.01       203\n",
      "          33       0.31      0.07      0.12       203\n",
      "          34       0.60      0.10      0.18       203\n",
      "          35       0.18      0.02      0.04       203\n",
      "          36       0.56      0.18      0.27       203\n",
      "          37       0.60      0.01      0.03       203\n",
      "          38       0.28      0.29      0.29       203\n",
      "          39       0.06      0.48      0.11       202\n",
      "          40       0.20      0.09      0.12       203\n",
      "          41       0.44      0.50      0.47       203\n",
      "\n",
      "    accuracy                           0.22      8518\n",
      "   macro avg       0.36      0.22      0.21      8518\n",
      "weighted avg       0.36      0.22      0.21      8518\n",
      "\n"
     ]
    }
   ],
   "source": [
    "from sklearn.feature_extraction.text import CountVectorizer\n",
    "from sklearn.pipeline import Pipeline\n",
    "from sklearn.naive_bayes import MultinomialNB\n",
    "from sklearn.metrics import classification_report\n",
    "\n",
    "\n",
    "clf = Pipeline([\n",
    "    ('vectorizer', CountVectorizer()),\n",
    "    ('classifier', MultinomialNB())\n",
    "])\n",
    "\n",
    "clf.fit(X_train, y_train)\n",
    "y_pred = clf.predict(X_test)\n",
    "print(classification_report(y_test, y_pred))"
   ]
  },
  {
   "cell_type": "code",
   "execution_count": 8,
   "id": "65879495",
   "metadata": {
    "execution": {
     "iopub.execute_input": "2024-04-06T23:43:36.230942Z",
     "iopub.status.busy": "2024-04-06T23:43:36.230569Z",
     "iopub.status.idle": "2024-04-06T23:43:41.915679Z",
     "shell.execute_reply": "2024-04-06T23:43:41.914453Z"
    },
    "papermill": {
     "duration": 5.69293,
     "end_time": "2024-04-06T23:43:41.918021",
     "exception": false,
     "start_time": "2024-04-06T23:43:36.225091",
     "status": "completed"
    },
    "tags": []
   },
   "outputs": [],
   "source": [
    "import spacy\n",
    "nlp = spacy.load('en_core_web_sm')\n",
    "def preprocess(text):\n",
    "    doc = nlp(text)\n",
    "    return \" \".join([token.lemma_ for token in doc if not token.is_stop and not token.is_punct ])"
   ]
  },
  {
   "cell_type": "code",
   "execution_count": 9,
   "id": "e22a6c50",
   "metadata": {
    "execution": {
     "iopub.execute_input": "2024-04-06T23:43:41.928509Z",
     "iopub.status.busy": "2024-04-06T23:43:41.927990Z",
     "iopub.status.idle": "2024-04-06T23:49:11.948866Z",
     "shell.execute_reply": "2024-04-06T23:49:11.947579Z"
    },
    "papermill": {
     "duration": 330.033236,
     "end_time": "2024-04-06T23:49:11.955737",
     "exception": false,
     "start_time": "2024-04-06T23:43:41.922501",
     "status": "completed"
    },
    "tags": []
   },
   "outputs": [
    {
     "data": {
      "text/plain": [
       "6895                            incident occur zoo open day\n",
       "1016      market careen recent week amid uncertainty eco...\n",
       "629                       hurt people live dream user write\n",
       "8670      Florida Alabama Mississippi declare state emer...\n",
       "6573         body reportedly find near Anzalduas Park Texas\n",
       "                                ...                        \n",
       "209355    legal freedom come divorce decree necessarily ...\n",
       "160235    day ago think entirely possible good friend ex...\n",
       "185978    Maria Shriver estranged husband Arnold Schwarz...\n",
       "160171    accord recent datum National Opinion Research ...\n",
       "165852    divorce coach Mandy Walker founder divorce sup...\n",
       "Name: pro_describe, Length: 42588, dtype: object"
      ]
     },
     "execution_count": 9,
     "metadata": {},
     "output_type": "execute_result"
    }
   ],
   "source": [
    "balanced_df['pro_describe'] = balanced_df.short_description.apply(preprocess)\n",
    "balanced_df.pro_describe"
   ]
  },
  {
   "cell_type": "code",
   "execution_count": 10,
   "id": "3fadfb0e",
   "metadata": {
    "execution": {
     "iopub.execute_input": "2024-04-06T23:49:11.967976Z",
     "iopub.status.busy": "2024-04-06T23:49:11.967182Z",
     "iopub.status.idle": "2024-04-06T23:49:12.663620Z",
     "shell.execute_reply": "2024-04-06T23:49:12.662415Z"
    },
    "papermill": {
     "duration": 0.705766,
     "end_time": "2024-04-06T23:49:12.665986",
     "exception": false,
     "start_time": "2024-04-06T23:49:11.960220",
     "status": "completed"
    },
    "tags": []
   },
   "outputs": [
    {
     "name": "stdout",
     "output_type": "stream",
     "text": [
      "              precision    recall  f1-score   support\n",
      "\n",
      "           0       0.22      0.26      0.24       203\n",
      "           1       0.22      0.10      0.14       203\n",
      "           2       0.15      0.29      0.20       203\n",
      "           3       0.44      0.27      0.33       203\n",
      "           4       0.07      0.40      0.11       202\n",
      "           5       0.45      0.29      0.35       203\n",
      "           6       0.51      0.28      0.36       203\n",
      "           7       0.22      0.10      0.14       203\n",
      "           8       0.25      0.26      0.26       202\n",
      "           9       0.35      0.06      0.11       203\n",
      "          10       0.32      0.37      0.35       203\n",
      "          11       0.26      0.44      0.33       203\n",
      "          12       0.29      0.28      0.28       203\n",
      "          13       0.60      0.29      0.39       202\n",
      "          14       0.19      0.39      0.26       203\n",
      "          15       0.27      0.21      0.24       203\n",
      "          16       0.34      0.52      0.41       203\n",
      "          17       0.34      0.39      0.36       203\n",
      "          18       0.35      0.22      0.27       203\n",
      "          19       0.45      0.26      0.33       202\n",
      "          20       0.37      0.37      0.37       203\n",
      "          21       0.24      0.12      0.16       203\n",
      "          22       0.24      0.15      0.19       203\n",
      "          23       0.41      0.48      0.44       203\n",
      "          24       0.32      0.57      0.41       203\n",
      "          25       0.40      0.23      0.29       202\n",
      "          26       0.55      0.22      0.32       202\n",
      "          27       0.19      0.22      0.20       203\n",
      "          28       0.41      0.61      0.49       203\n",
      "          29       0.41      0.29      0.34       202\n",
      "          30       0.11      0.07      0.09       203\n",
      "          31       0.24      0.07      0.11       203\n",
      "          32       0.19      0.02      0.04       203\n",
      "          33       0.28      0.16      0.21       203\n",
      "          34       0.40      0.22      0.28       203\n",
      "          35       0.13      0.08      0.10       203\n",
      "          36       0.35      0.21      0.26       203\n",
      "          37       0.20      0.03      0.05       203\n",
      "          38       0.29      0.28      0.28       203\n",
      "          39       0.12      0.25      0.16       202\n",
      "          40       0.15      0.09      0.12       203\n",
      "          41       0.48      0.57      0.52       203\n",
      "\n",
      "    accuracy                           0.26      8518\n",
      "   macro avg       0.30      0.26      0.26      8518\n",
      "weighted avg       0.30      0.26      0.26      8518\n",
      "\n"
     ]
    }
   ],
   "source": [
    "X_train, X_test, y_train, y_test = train_test_split(balanced_df.pro_describe, balanced_df.category_num, test_size=0.2, random_state=42, stratify = balanced_df.category_num, shuffle=True)\n",
    "\n",
    "clf2 = Pipeline([\n",
    "    ('vectorizer', CountVectorizer()),\n",
    "    ('classifier', MultinomialNB())\n",
    "])\n",
    "\n",
    "clf2.fit(X_train, y_train)\n",
    "y_pred = clf.predict(X_test)\n",
    "print(classification_report(y_test, y_pred))"
   ]
  }
 ],
 "metadata": {
  "kaggle": {
   "accelerator": "none",
   "dataSources": [
    {
     "datasetId": 32526,
     "sourceId": 4243451,
     "sourceType": "datasetVersion"
    }
   ],
   "dockerImageVersionId": 30673,
   "isGpuEnabled": false,
   "isInternetEnabled": false,
   "language": "python",
   "sourceType": "notebook"
  },
  "kernelspec": {
   "display_name": "Python 3",
   "language": "python",
   "name": "python3"
  },
  "language_info": {
   "codemirror_mode": {
    "name": "ipython",
    "version": 3
   },
   "file_extension": ".py",
   "mimetype": "text/x-python",
   "name": "python",
   "nbconvert_exporter": "python",
   "pygments_lexer": "ipython3",
   "version": "3.10.13"
  },
  "papermill": {
   "default_parameters": {},
   "duration": 347.301589,
   "end_time": "2024-04-06T23:49:13.993195",
   "environment_variables": {},
   "exception": null,
   "input_path": "__notebook__.ipynb",
   "output_path": "__notebook__.ipynb",
   "parameters": {},
   "start_time": "2024-04-06T23:43:26.691606",
   "version": "2.5.0"
  }
 },
 "nbformat": 4,
 "nbformat_minor": 5
}
