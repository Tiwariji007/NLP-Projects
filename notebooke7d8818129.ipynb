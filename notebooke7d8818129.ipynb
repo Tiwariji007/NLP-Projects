{
 "cells": [
  {
   "cell_type": "code",
   "execution_count": 1,
   "id": "365e88e9",
   "metadata": {
    "_cell_guid": "b1076dfc-b9ad-4769-8c92-a6c4dae69d19",
    "_uuid": "8f2839f25d086af736a60e9eeb907d3b93b6e0e5",
    "execution": {
     "iopub.execute_input": "2024-04-06T07:55:00.346646Z",
     "iopub.status.busy": "2024-04-06T07:55:00.346270Z",
     "iopub.status.idle": "2024-04-06T07:55:01.464420Z",
     "shell.execute_reply": "2024-04-06T07:55:01.463226Z"
    },
    "papermill": {
     "duration": 1.12966,
     "end_time": "2024-04-06T07:55:01.468742",
     "exception": false,
     "start_time": "2024-04-06T07:55:00.339082",
     "status": "completed"
    },
    "tags": []
   },
   "outputs": [
    {
     "name": "stdout",
     "output_type": "stream",
     "text": [
      "/kaggle/input/sms-spam-collection-dataset/spam.csv\n"
     ]
    }
   ],
   "source": [
    "# This Python 3 environment comes with many helpful analytics libraries installed\n",
    "# It is defined by the kaggle/python Docker image: https://github.com/kaggle/docker-python\n",
    "# For example, here's several helpful packages to load\n",
    "\n",
    "import numpy as np # linear algebra\n",
    "import pandas as pd # data processing, CSV file I/O (e.g. pd.read_csv)\n",
    "\n",
    "# Input data files are available in the read-only \"../input/\" directory\n",
    "# For example, running this (by clicking run or pressing Shift+Enter) will list all files under the input directory\n",
    "\n",
    "import os\n",
    "for dirname, _, filenames in os.walk('/kaggle/input'):\n",
    "    for filename in filenames:\n",
    "        print(os.path.join(dirname, filename))\n",
    "\n",
    "# You can write up to 20GB to the current directory (/kaggle/working/) that gets preserved as output when you create a version using \"Save & Run All\" \n",
    "# You can also write temporary files to /kaggle/temp/, but they won't be saved outside of the current session"
   ]
  },
  {
   "cell_type": "code",
   "execution_count": 2,
   "id": "a581b67a",
   "metadata": {
    "execution": {
     "iopub.execute_input": "2024-04-06T07:55:01.481444Z",
     "iopub.status.busy": "2024-04-06T07:55:01.480838Z",
     "iopub.status.idle": "2024-04-06T07:55:01.486367Z",
     "shell.execute_reply": "2024-04-06T07:55:01.484967Z"
    },
    "papermill": {
     "duration": 0.014821,
     "end_time": "2024-04-06T07:55:01.489131",
     "exception": false,
     "start_time": "2024-04-06T07:55:01.474310",
     "status": "completed"
    },
    "tags": []
   },
   "outputs": [],
   "source": [
    "import numpy as np\n",
    "import pandas as pd"
   ]
  },
  {
   "cell_type": "code",
   "execution_count": 3,
   "id": "aa1effad",
   "metadata": {
    "execution": {
     "iopub.execute_input": "2024-04-06T07:55:01.501749Z",
     "iopub.status.busy": "2024-04-06T07:55:01.501329Z",
     "iopub.status.idle": "2024-04-06T07:55:01.574973Z",
     "shell.execute_reply": "2024-04-06T07:55:01.571996Z"
    },
    "papermill": {
     "duration": 0.083612,
     "end_time": "2024-04-06T07:55:01.578156",
     "exception": false,
     "start_time": "2024-04-06T07:55:01.494544",
     "status": "completed"
    },
    "tags": []
   },
   "outputs": [
    {
     "data": {
      "text/plain": [
       "Index(['v1', 'v2', 'Unnamed: 2', 'Unnamed: 3', 'Unnamed: 4'], dtype='object')"
      ]
     },
     "execution_count": 3,
     "metadata": {},
     "output_type": "execute_result"
    }
   ],
   "source": [
    "df = pd.read_csv('/kaggle/input/sms-spam-collection-dataset/spam.csv', encoding='latin1')\n",
    "df.v1.value_counts()\n",
    "df.columns"
   ]
  },
  {
   "cell_type": "code",
   "execution_count": 4,
   "id": "c4a95619",
   "metadata": {
    "execution": {
     "iopub.execute_input": "2024-04-06T07:55:01.590342Z",
     "iopub.status.busy": "2024-04-06T07:55:01.589931Z",
     "iopub.status.idle": "2024-04-06T07:55:01.618044Z",
     "shell.execute_reply": "2024-04-06T07:55:01.616747Z"
    },
    "papermill": {
     "duration": 0.037152,
     "end_time": "2024-04-06T07:55:01.620554",
     "exception": false,
     "start_time": "2024-04-06T07:55:01.583402",
     "status": "completed"
    },
    "tags": []
   },
   "outputs": [
    {
     "data": {
      "text/html": [
       "<div>\n",
       "<style scoped>\n",
       "    .dataframe tbody tr th:only-of-type {\n",
       "        vertical-align: middle;\n",
       "    }\n",
       "\n",
       "    .dataframe tbody tr th {\n",
       "        vertical-align: top;\n",
       "    }\n",
       "\n",
       "    .dataframe thead th {\n",
       "        text-align: right;\n",
       "    }\n",
       "</style>\n",
       "<table border=\"1\" class=\"dataframe\">\n",
       "  <thead>\n",
       "    <tr style=\"text-align: right;\">\n",
       "      <th></th>\n",
       "      <th>v1</th>\n",
       "      <th>v2</th>\n",
       "      <th>Unnamed: 2</th>\n",
       "      <th>Unnamed: 3</th>\n",
       "      <th>Unnamed: 4</th>\n",
       "      <th>spam</th>\n",
       "    </tr>\n",
       "  </thead>\n",
       "  <tbody>\n",
       "    <tr>\n",
       "      <th>0</th>\n",
       "      <td>ham</td>\n",
       "      <td>Go until jurong point, crazy.. Available only ...</td>\n",
       "      <td>NaN</td>\n",
       "      <td>NaN</td>\n",
       "      <td>NaN</td>\n",
       "      <td>0</td>\n",
       "    </tr>\n",
       "    <tr>\n",
       "      <th>1</th>\n",
       "      <td>ham</td>\n",
       "      <td>Ok lar... Joking wif u oni...</td>\n",
       "      <td>NaN</td>\n",
       "      <td>NaN</td>\n",
       "      <td>NaN</td>\n",
       "      <td>0</td>\n",
       "    </tr>\n",
       "    <tr>\n",
       "      <th>2</th>\n",
       "      <td>spam</td>\n",
       "      <td>Free entry in 2 a wkly comp to win FA Cup fina...</td>\n",
       "      <td>NaN</td>\n",
       "      <td>NaN</td>\n",
       "      <td>NaN</td>\n",
       "      <td>1</td>\n",
       "    </tr>\n",
       "    <tr>\n",
       "      <th>3</th>\n",
       "      <td>ham</td>\n",
       "      <td>U dun say so early hor... U c already then say...</td>\n",
       "      <td>NaN</td>\n",
       "      <td>NaN</td>\n",
       "      <td>NaN</td>\n",
       "      <td>0</td>\n",
       "    </tr>\n",
       "    <tr>\n",
       "      <th>4</th>\n",
       "      <td>ham</td>\n",
       "      <td>Nah I don't think he goes to usf, he lives aro...</td>\n",
       "      <td>NaN</td>\n",
       "      <td>NaN</td>\n",
       "      <td>NaN</td>\n",
       "      <td>0</td>\n",
       "    </tr>\n",
       "  </tbody>\n",
       "</table>\n",
       "</div>"
      ],
      "text/plain": [
       "     v1                                                 v2 Unnamed: 2  \\\n",
       "0   ham  Go until jurong point, crazy.. Available only ...        NaN   \n",
       "1   ham                      Ok lar... Joking wif u oni...        NaN   \n",
       "2  spam  Free entry in 2 a wkly comp to win FA Cup fina...        NaN   \n",
       "3   ham  U dun say so early hor... U c already then say...        NaN   \n",
       "4   ham  Nah I don't think he goes to usf, he lives aro...        NaN   \n",
       "\n",
       "  Unnamed: 3 Unnamed: 4  spam  \n",
       "0        NaN        NaN     0  \n",
       "1        NaN        NaN     0  \n",
       "2        NaN        NaN     1  \n",
       "3        NaN        NaN     0  \n",
       "4        NaN        NaN     0  "
      ]
     },
     "execution_count": 4,
     "metadata": {},
     "output_type": "execute_result"
    }
   ],
   "source": [
    "df['spam'] = df.v1.apply(lambda x: 1 if x=='spam' else 0)\n",
    "df.head()"
   ]
  },
  {
   "cell_type": "code",
   "execution_count": 5,
   "id": "f76c6b7c",
   "metadata": {
    "execution": {
     "iopub.execute_input": "2024-04-06T07:55:01.634332Z",
     "iopub.status.busy": "2024-04-06T07:55:01.632867Z",
     "iopub.status.idle": "2024-04-06T07:55:03.163118Z",
     "shell.execute_reply": "2024-04-06T07:55:03.161977Z"
    },
    "papermill": {
     "duration": 1.540006,
     "end_time": "2024-04-06T07:55:03.165793",
     "exception": false,
     "start_time": "2024-04-06T07:55:01.625787",
     "status": "completed"
    },
    "tags": []
   },
   "outputs": [
    {
     "data": {
      "text/plain": [
       "1108    0\n",
       "3186    0\n",
       "3086    0\n",
       "1523    0\n",
       "2957    1\n",
       "Name: spam, dtype: int64"
      ]
     },
     "execution_count": 5,
     "metadata": {},
     "output_type": "execute_result"
    }
   ],
   "source": [
    "from sklearn.model_selection import train_test_split\n",
    "X_train, X_test, y_train, y_test = train_test_split(df.v2, df.spam, test_size=0.2)\n",
    "y_train.head()"
   ]
  },
  {
   "cell_type": "code",
   "execution_count": 6,
   "id": "994b88e7",
   "metadata": {
    "execution": {
     "iopub.execute_input": "2024-04-06T07:55:03.178415Z",
     "iopub.status.busy": "2024-04-06T07:55:03.177976Z",
     "iopub.status.idle": "2024-04-06T07:55:03.413656Z",
     "shell.execute_reply": "2024-04-06T07:55:03.411800Z"
    },
    "papermill": {
     "duration": 0.244964,
     "end_time": "2024-04-06T07:55:03.416167",
     "exception": false,
     "start_time": "2024-04-06T07:55:03.171203",
     "status": "completed"
    },
    "tags": []
   },
   "outputs": [
    {
     "data": {
      "text/plain": [
       "<4457x7664 sparse matrix of type '<class 'numpy.int64'>'\n",
       "\twith 58663 stored elements in Compressed Sparse Row format>"
      ]
     },
     "execution_count": 6,
     "metadata": {},
     "output_type": "execute_result"
    }
   ],
   "source": [
    "from sklearn.feature_extraction.text import CountVectorizer\n",
    "\n",
    "cv = CountVectorizer();\n",
    "train_cv = cv.fit_transform(X_train.values)\n",
    "train_cv"
   ]
  },
  {
   "cell_type": "code",
   "execution_count": 7,
   "id": "78e4f14d",
   "metadata": {
    "execution": {
     "iopub.execute_input": "2024-04-06T07:55:03.429559Z",
     "iopub.status.busy": "2024-04-06T07:55:03.428402Z",
     "iopub.status.idle": "2024-04-06T07:55:03.443836Z",
     "shell.execute_reply": "2024-04-06T07:55:03.442587Z"
    },
    "papermill": {
     "duration": 0.025653,
     "end_time": "2024-04-06T07:55:03.447305",
     "exception": false,
     "start_time": "2024-04-06T07:55:03.421652",
     "status": "completed"
    },
    "tags": []
   },
   "outputs": [],
   "source": [
    "from sklearn.naive_bayes import MultinomialNB\n",
    "mnb = MultinomialNB()\n",
    "train_mnb = mnb.fit(train_cv, y_train)"
   ]
  },
  {
   "cell_type": "code",
   "execution_count": 8,
   "id": "85387204",
   "metadata": {
    "execution": {
     "iopub.execute_input": "2024-04-06T07:55:03.462008Z",
     "iopub.status.busy": "2024-04-06T07:55:03.460519Z",
     "iopub.status.idle": "2024-04-06T07:55:03.497119Z",
     "shell.execute_reply": "2024-04-06T07:55:03.495906Z"
    },
    "papermill": {
     "duration": 0.046969,
     "end_time": "2024-04-06T07:55:03.500267",
     "exception": false,
     "start_time": "2024-04-06T07:55:03.453298",
     "status": "completed"
    },
    "tags": []
   },
   "outputs": [],
   "source": [
    "test_cv = cv.transform(X_test)\n",
    "prediction = mnb.predict(test_cv)"
   ]
  },
  {
   "cell_type": "code",
   "execution_count": 9,
   "id": "9450dd85",
   "metadata": {
    "execution": {
     "iopub.execute_input": "2024-04-06T07:55:03.513267Z",
     "iopub.status.busy": "2024-04-06T07:55:03.512808Z",
     "iopub.status.idle": "2024-04-06T07:55:03.529581Z",
     "shell.execute_reply": "2024-04-06T07:55:03.528269Z"
    },
    "papermill": {
     "duration": 0.026434,
     "end_time": "2024-04-06T07:55:03.532208",
     "exception": false,
     "start_time": "2024-04-06T07:55:03.505774",
     "status": "completed"
    },
    "tags": []
   },
   "outputs": [
    {
     "name": "stdout",
     "output_type": "stream",
     "text": [
      "              precision    recall  f1-score   support\n",
      "\n",
      "           0       0.99      1.00      0.99       951\n",
      "           1       0.99      0.93      0.96       164\n",
      "\n",
      "    accuracy                           0.99      1115\n",
      "   macro avg       0.99      0.97      0.98      1115\n",
      "weighted avg       0.99      0.99      0.99      1115\n",
      "\n"
     ]
    }
   ],
   "source": [
    "from sklearn.metrics import classification_report\n",
    "\n",
    "print(classification_report(y_test, prediction))"
   ]
  },
  {
   "cell_type": "markdown",
   "id": "a8ad3b6d",
   "metadata": {
    "papermill": {
     "duration": 0.005349,
     "end_time": "2024-04-06T07:55:03.543519",
     "exception": false,
     "start_time": "2024-04-06T07:55:03.538170",
     "status": "completed"
    },
    "tags": []
   },
   "source": [
    "# quick method"
   ]
  },
  {
   "cell_type": "code",
   "execution_count": 10,
   "id": "134337a3",
   "metadata": {
    "execution": {
     "iopub.execute_input": "2024-04-06T07:55:03.556842Z",
     "iopub.status.busy": "2024-04-06T07:55:03.556430Z",
     "iopub.status.idle": "2024-04-06T07:55:03.730967Z",
     "shell.execute_reply": "2024-04-06T07:55:03.729161Z"
    },
    "papermill": {
     "duration": 0.184768,
     "end_time": "2024-04-06T07:55:03.733899",
     "exception": false,
     "start_time": "2024-04-06T07:55:03.549131",
     "status": "completed"
    },
    "tags": []
   },
   "outputs": [
    {
     "name": "stdout",
     "output_type": "stream",
     "text": [
      "              precision    recall  f1-score   support\n",
      "\n",
      "           0       0.99      1.00      0.99       951\n",
      "           1       0.99      0.93      0.96       164\n",
      "\n",
      "    accuracy                           0.99      1115\n",
      "   macro avg       0.99      0.97      0.98      1115\n",
      "weighted avg       0.99      0.99      0.99      1115\n",
      "\n"
     ]
    }
   ],
   "source": [
    "from sklearn.pipeline import Pipeline\n",
    "clf = Pipeline([\n",
    "    ('vectorisor',CountVectorizer()),\n",
    "    ('nb', MultinomialNB())\n",
    "])\n",
    "\n",
    "clf.fit(X_train, y_train)\n",
    "prediction = clf.predict(X_test)\n",
    "print(classification_report(y_test, prediction))"
   ]
  }
 ],
 "metadata": {
  "kaggle": {
   "accelerator": "none",
   "dataSources": [
    {
     "datasetId": 483,
     "sourceId": 982,
     "sourceType": "datasetVersion"
    }
   ],
   "dockerImageVersionId": 30673,
   "isGpuEnabled": false,
   "isInternetEnabled": false,
   "language": "python",
   "sourceType": "notebook"
  },
  "kernelspec": {
   "display_name": "Python 3",
   "language": "python",
   "name": "python3"
  },
  "language_info": {
   "codemirror_mode": {
    "name": "ipython",
    "version": 3
   },
   "file_extension": ".py",
   "mimetype": "text/x-python",
   "name": "python",
   "nbconvert_exporter": "python",
   "pygments_lexer": "ipython3",
   "version": "3.10.13"
  },
  "papermill": {
   "default_parameters": {},
   "duration": 7.191905,
   "end_time": "2024-04-06T07:55:04.361572",
   "environment_variables": {},
   "exception": null,
   "input_path": "__notebook__.ipynb",
   "output_path": "__notebook__.ipynb",
   "parameters": {},
   "start_time": "2024-04-06T07:54:57.169667",
   "version": "2.5.0"
  }
 },
 "nbformat": 4,
 "nbformat_minor": 5
}
