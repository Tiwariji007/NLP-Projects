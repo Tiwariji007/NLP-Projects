{
 "cells": [
  {
   "cell_type": "code",
   "execution_count": 1,
   "id": "0e5e40c0",
   "metadata": {
    "_cell_guid": "b1076dfc-b9ad-4769-8c92-a6c4dae69d19",
    "_uuid": "8f2839f25d086af736a60e9eeb907d3b93b6e0e5",
    "execution": {
     "iopub.execute_input": "2024-04-06T08:03:43.067956Z",
     "iopub.status.busy": "2024-04-06T08:03:43.067595Z",
     "iopub.status.idle": "2024-04-06T08:03:43.914283Z",
     "shell.execute_reply": "2024-04-06T08:03:43.912629Z"
    },
    "papermill": {
     "duration": 0.855879,
     "end_time": "2024-04-06T08:03:43.916660",
     "exception": false,
     "start_time": "2024-04-06T08:03:43.060781",
     "status": "completed"
    },
    "tags": []
   },
   "outputs": [
    {
     "name": "stdout",
     "output_type": "stream",
     "text": [
      "/kaggle/input/sms-spam-collection-dataset/spam.csv\n"
     ]
    }
   ],
   "source": [
    "# This Python 3 environment comes with many helpful analytics libraries installed\n",
    "# It is defined by the kaggle/python Docker image: https://github.com/kaggle/docker-python\n",
    "# For example, here's several helpful packages to load\n",
    "\n",
    "import numpy as np # linear algebra\n",
    "import pandas as pd # data processing, CSV file I/O (e.g. pd.read_csv)\n",
    "\n",
    "# Input data files are available in the read-only \"../input/\" directory\n",
    "# For example, running this (by clicking run or pressing Shift+Enter) will list all files under the input directory\n",
    "\n",
    "import os\n",
    "for dirname, _, filenames in os.walk('/kaggle/input'):\n",
    "    for filename in filenames:\n",
    "        print(os.path.join(dirname, filename))\n",
    "\n",
    "# You can write up to 20GB to the current directory (/kaggle/working/) that gets preserved as output when you create a version using \"Save & Run All\" \n",
    "# You can also write temporary files to /kaggle/temp/, but they won't be saved outside of the current session"
   ]
  },
  {
   "cell_type": "code",
   "execution_count": 2,
   "id": "50aa51f5",
   "metadata": {
    "execution": {
     "iopub.execute_input": "2024-04-06T08:03:43.928885Z",
     "iopub.status.busy": "2024-04-06T08:03:43.928343Z",
     "iopub.status.idle": "2024-04-06T08:03:43.932712Z",
     "shell.execute_reply": "2024-04-06T08:03:43.931727Z"
    },
    "papermill": {
     "duration": 0.012119,
     "end_time": "2024-04-06T08:03:43.934847",
     "exception": false,
     "start_time": "2024-04-06T08:03:43.922728",
     "status": "completed"
    },
    "tags": []
   },
   "outputs": [],
   "source": [
    "import numpy as np\n",
    "import pandas as pd"
   ]
  },
  {
   "cell_type": "code",
   "execution_count": 3,
   "id": "129eddf3",
   "metadata": {
    "execution": {
     "iopub.execute_input": "2024-04-06T08:03:43.945397Z",
     "iopub.status.busy": "2024-04-06T08:03:43.944381Z",
     "iopub.status.idle": "2024-04-06T08:03:43.991409Z",
     "shell.execute_reply": "2024-04-06T08:03:43.990531Z"
    },
    "papermill": {
     "duration": 0.054414,
     "end_time": "2024-04-06T08:03:43.993510",
     "exception": false,
     "start_time": "2024-04-06T08:03:43.939096",
     "status": "completed"
    },
    "tags": []
   },
   "outputs": [
    {
     "data": {
      "text/plain": [
       "Index(['v1', 'v2', 'Unnamed: 2', 'Unnamed: 3', 'Unnamed: 4'], dtype='object')"
      ]
     },
     "execution_count": 3,
     "metadata": {},
     "output_type": "execute_result"
    }
   ],
   "source": [
    "df = pd.read_csv('/kaggle/input/sms-spam-collection-dataset/spam.csv', encoding='latin1')\n",
    "df.v1.value_counts()\n",
    "df.columns"
   ]
  },
  {
   "cell_type": "code",
   "execution_count": 4,
   "id": "62c785da",
   "metadata": {
    "execution": {
     "iopub.execute_input": "2024-04-06T08:03:44.003573Z",
     "iopub.status.busy": "2024-04-06T08:03:44.003263Z",
     "iopub.status.idle": "2024-04-06T08:03:44.024389Z",
     "shell.execute_reply": "2024-04-06T08:03:44.023390Z"
    },
    "papermill": {
     "duration": 0.02864,
     "end_time": "2024-04-06T08:03:44.026630",
     "exception": false,
     "start_time": "2024-04-06T08:03:43.997990",
     "status": "completed"
    },
    "tags": []
   },
   "outputs": [
    {
     "data": {
      "text/html": [
       "<div>\n",
       "<style scoped>\n",
       "    .dataframe tbody tr th:only-of-type {\n",
       "        vertical-align: middle;\n",
       "    }\n",
       "\n",
       "    .dataframe tbody tr th {\n",
       "        vertical-align: top;\n",
       "    }\n",
       "\n",
       "    .dataframe thead th {\n",
       "        text-align: right;\n",
       "    }\n",
       "</style>\n",
       "<table border=\"1\" class=\"dataframe\">\n",
       "  <thead>\n",
       "    <tr style=\"text-align: right;\">\n",
       "      <th></th>\n",
       "      <th>v1</th>\n",
       "      <th>v2</th>\n",
       "      <th>Unnamed: 2</th>\n",
       "      <th>Unnamed: 3</th>\n",
       "      <th>Unnamed: 4</th>\n",
       "      <th>spam</th>\n",
       "    </tr>\n",
       "  </thead>\n",
       "  <tbody>\n",
       "    <tr>\n",
       "      <th>0</th>\n",
       "      <td>ham</td>\n",
       "      <td>Go until jurong point, crazy.. Available only ...</td>\n",
       "      <td>NaN</td>\n",
       "      <td>NaN</td>\n",
       "      <td>NaN</td>\n",
       "      <td>0</td>\n",
       "    </tr>\n",
       "    <tr>\n",
       "      <th>1</th>\n",
       "      <td>ham</td>\n",
       "      <td>Ok lar... Joking wif u oni...</td>\n",
       "      <td>NaN</td>\n",
       "      <td>NaN</td>\n",
       "      <td>NaN</td>\n",
       "      <td>0</td>\n",
       "    </tr>\n",
       "    <tr>\n",
       "      <th>2</th>\n",
       "      <td>spam</td>\n",
       "      <td>Free entry in 2 a wkly comp to win FA Cup fina...</td>\n",
       "      <td>NaN</td>\n",
       "      <td>NaN</td>\n",
       "      <td>NaN</td>\n",
       "      <td>1</td>\n",
       "    </tr>\n",
       "    <tr>\n",
       "      <th>3</th>\n",
       "      <td>ham</td>\n",
       "      <td>U dun say so early hor... U c already then say...</td>\n",
       "      <td>NaN</td>\n",
       "      <td>NaN</td>\n",
       "      <td>NaN</td>\n",
       "      <td>0</td>\n",
       "    </tr>\n",
       "    <tr>\n",
       "      <th>4</th>\n",
       "      <td>ham</td>\n",
       "      <td>Nah I don't think he goes to usf, he lives aro...</td>\n",
       "      <td>NaN</td>\n",
       "      <td>NaN</td>\n",
       "      <td>NaN</td>\n",
       "      <td>0</td>\n",
       "    </tr>\n",
       "  </tbody>\n",
       "</table>\n",
       "</div>"
      ],
      "text/plain": [
       "     v1                                                 v2 Unnamed: 2  \\\n",
       "0   ham  Go until jurong point, crazy.. Available only ...        NaN   \n",
       "1   ham                      Ok lar... Joking wif u oni...        NaN   \n",
       "2  spam  Free entry in 2 a wkly comp to win FA Cup fina...        NaN   \n",
       "3   ham  U dun say so early hor... U c already then say...        NaN   \n",
       "4   ham  Nah I don't think he goes to usf, he lives aro...        NaN   \n",
       "\n",
       "  Unnamed: 3 Unnamed: 4  spam  \n",
       "0        NaN        NaN     0  \n",
       "1        NaN        NaN     0  \n",
       "2        NaN        NaN     1  \n",
       "3        NaN        NaN     0  \n",
       "4        NaN        NaN     0  "
      ]
     },
     "execution_count": 4,
     "metadata": {},
     "output_type": "execute_result"
    }
   ],
   "source": [
    "df['spam'] = df.v1.apply(lambda x: 1 if x=='spam' else 0)\n",
    "df.head()"
   ]
  },
  {
   "cell_type": "code",
   "execution_count": 5,
   "id": "59e064bf",
   "metadata": {
    "execution": {
     "iopub.execute_input": "2024-04-06T08:03:44.037621Z",
     "iopub.status.busy": "2024-04-06T08:03:44.037265Z",
     "iopub.status.idle": "2024-04-06T08:03:45.277014Z",
     "shell.execute_reply": "2024-04-06T08:03:45.276015Z"
    },
    "papermill": {
     "duration": 1.247686,
     "end_time": "2024-04-06T08:03:45.279131",
     "exception": false,
     "start_time": "2024-04-06T08:03:44.031445",
     "status": "completed"
    },
    "tags": []
   },
   "outputs": [
    {
     "data": {
      "text/plain": [
       "1376    0\n",
       "2257    0\n",
       "3377    0\n",
       "4657    0\n",
       "4647    0\n",
       "Name: spam, dtype: int64"
      ]
     },
     "execution_count": 5,
     "metadata": {},
     "output_type": "execute_result"
    }
   ],
   "source": [
    "from sklearn.model_selection import train_test_split\n",
    "X_train, X_test, y_train, y_test = train_test_split(df.v2, df.spam, test_size=0.2)\n",
    "y_train.head()"
   ]
  },
  {
   "cell_type": "code",
   "execution_count": 6,
   "id": "7ce330b0",
   "metadata": {
    "execution": {
     "iopub.execute_input": "2024-04-06T08:03:45.290625Z",
     "iopub.status.busy": "2024-04-06T08:03:45.290240Z",
     "iopub.status.idle": "2024-04-06T08:03:45.510574Z",
     "shell.execute_reply": "2024-04-06T08:03:45.509466Z"
    },
    "papermill": {
     "duration": 0.228772,
     "end_time": "2024-04-06T08:03:45.512984",
     "exception": false,
     "start_time": "2024-04-06T08:03:45.284212",
     "status": "completed"
    },
    "tags": []
   },
   "outputs": [
    {
     "data": {
      "text/plain": [
       "<4457x7692 sparse matrix of type '<class 'numpy.int64'>'\n",
       "\twith 58985 stored elements in Compressed Sparse Row format>"
      ]
     },
     "execution_count": 6,
     "metadata": {},
     "output_type": "execute_result"
    }
   ],
   "source": [
    "from sklearn.feature_extraction.text import CountVectorizer\n",
    "\n",
    "cv = CountVectorizer();\n",
    "train_cv = cv.fit_transform(X_train.values)\n",
    "train_cv"
   ]
  },
  {
   "cell_type": "code",
   "execution_count": 7,
   "id": "0feb3017",
   "metadata": {
    "execution": {
     "iopub.execute_input": "2024-04-06T08:03:45.525217Z",
     "iopub.status.busy": "2024-04-06T08:03:45.524789Z",
     "iopub.status.idle": "2024-04-06T08:03:45.537768Z",
     "shell.execute_reply": "2024-04-06T08:03:45.536711Z"
    },
    "papermill": {
     "duration": 0.021653,
     "end_time": "2024-04-06T08:03:45.539913",
     "exception": false,
     "start_time": "2024-04-06T08:03:45.518260",
     "status": "completed"
    },
    "tags": []
   },
   "outputs": [],
   "source": [
    "from sklearn.naive_bayes import MultinomialNB\n",
    "mnb = MultinomialNB()\n",
    "train_mnb = mnb.fit(train_cv, y_train)"
   ]
  },
  {
   "cell_type": "code",
   "execution_count": 8,
   "id": "c27adf5a",
   "metadata": {
    "execution": {
     "iopub.execute_input": "2024-04-06T08:03:45.551656Z",
     "iopub.status.busy": "2024-04-06T08:03:45.551280Z",
     "iopub.status.idle": "2024-04-06T08:03:45.582688Z",
     "shell.execute_reply": "2024-04-06T08:03:45.581715Z"
    },
    "papermill": {
     "duration": 0.039892,
     "end_time": "2024-04-06T08:03:45.584982",
     "exception": false,
     "start_time": "2024-04-06T08:03:45.545090",
     "status": "completed"
    },
    "tags": []
   },
   "outputs": [],
   "source": [
    "test_cv = cv.transform(X_test)\n",
    "prediction = mnb.predict(test_cv)"
   ]
  },
  {
   "cell_type": "code",
   "execution_count": 9,
   "id": "668a5b78",
   "metadata": {
    "execution": {
     "iopub.execute_input": "2024-04-06T08:03:45.596758Z",
     "iopub.status.busy": "2024-04-06T08:03:45.596395Z",
     "iopub.status.idle": "2024-04-06T08:03:45.611162Z",
     "shell.execute_reply": "2024-04-06T08:03:45.609726Z"
    },
    "papermill": {
     "duration": 0.023257,
     "end_time": "2024-04-06T08:03:45.613387",
     "exception": false,
     "start_time": "2024-04-06T08:03:45.590130",
     "status": "completed"
    },
    "tags": []
   },
   "outputs": [
    {
     "name": "stdout",
     "output_type": "stream",
     "text": [
      "              precision    recall  f1-score   support\n",
      "\n",
      "           0       0.99      1.00      0.99       956\n",
      "           1       0.98      0.91      0.94       159\n",
      "\n",
      "    accuracy                           0.98      1115\n",
      "   macro avg       0.98      0.95      0.97      1115\n",
      "weighted avg       0.98      0.98      0.98      1115\n",
      "\n"
     ]
    }
   ],
   "source": [
    "from sklearn.metrics import classification_report\n",
    "\n",
    "print(classification_report(y_test, prediction))"
   ]
  },
  {
   "cell_type": "markdown",
   "id": "51e92453",
   "metadata": {
    "papermill": {
     "duration": 0.004538,
     "end_time": "2024-04-06T08:03:45.628296",
     "exception": false,
     "start_time": "2024-04-06T08:03:45.623758",
     "status": "completed"
    },
    "tags": []
   },
   "source": [
    "# quick method"
   ]
  },
  {
   "cell_type": "code",
   "execution_count": 10,
   "id": "ac972752",
   "metadata": {
    "execution": {
     "iopub.execute_input": "2024-04-06T08:03:45.639732Z",
     "iopub.status.busy": "2024-04-06T08:03:45.639340Z",
     "iopub.status.idle": "2024-04-06T08:03:45.804908Z",
     "shell.execute_reply": "2024-04-06T08:03:45.803745Z"
    },
    "papermill": {
     "duration": 0.174111,
     "end_time": "2024-04-06T08:03:45.807400",
     "exception": false,
     "start_time": "2024-04-06T08:03:45.633289",
     "status": "completed"
    },
    "tags": []
   },
   "outputs": [
    {
     "name": "stdout",
     "output_type": "stream",
     "text": [
      "              precision    recall  f1-score   support\n",
      "\n",
      "           0       0.99      1.00      0.99       956\n",
      "           1       0.98      0.91      0.94       159\n",
      "\n",
      "    accuracy                           0.98      1115\n",
      "   macro avg       0.98      0.95      0.97      1115\n",
      "weighted avg       0.98      0.98      0.98      1115\n",
      "\n"
     ]
    }
   ],
   "source": [
    "from sklearn.pipeline import Pipeline\n",
    "clf = Pipeline([\n",
    "    ('vectorisor',CountVectorizer()),\n",
    "    ('nb', MultinomialNB())\n",
    "])\n",
    "\n",
    "clf.fit(X_train, y_train)\n",
    "prediction = clf.predict(X_test)\n",
    "print(classification_report(y_test, prediction))"
   ]
  }
 ],
 "metadata": {
  "kaggle": {
   "accelerator": "none",
   "dataSources": [
    {
     "datasetId": 483,
     "sourceId": 982,
     "sourceType": "datasetVersion"
    }
   ],
   "dockerImageVersionId": 30673,
   "isGpuEnabled": false,
   "isInternetEnabled": false,
   "language": "python",
   "sourceType": "notebook"
  },
  "kernelspec": {
   "display_name": "Python 3",
   "language": "python",
   "name": "python3"
  },
  "language_info": {
   "codemirror_mode": {
    "name": "ipython",
    "version": 3
   },
   "file_extension": ".py",
   "mimetype": "text/x-python",
   "name": "python",
   "nbconvert_exporter": "python",
   "pygments_lexer": "ipython3",
   "version": "3.10.13"
  },
  "papermill": {
   "default_parameters": {},
   "duration": 6.210811,
   "end_time": "2024-04-06T08:03:46.434490",
   "environment_variables": {},
   "exception": null,
   "input_path": "__notebook__.ipynb",
   "output_path": "__notebook__.ipynb",
   "parameters": {},
   "start_time": "2024-04-06T08:03:40.223679",
   "version": "2.5.0"
  }
 },
 "nbformat": 4,
 "nbformat_minor": 5
}
